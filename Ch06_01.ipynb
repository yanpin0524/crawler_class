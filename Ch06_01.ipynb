{
 "cells": [
  {
   "cell_type": "code",
   "execution_count": 26,
   "metadata": {},
   "outputs": [],
   "source": [
    "import requests as req\n",
    "import pandas as pd\n",
    "\n",
    "url = 'http://www.taiwanrate.com'\n",
    "headers = {\n",
    "  'user-agent': 'Mozilla/5.0 (Macintosh; Intel Mac OS X 10_13_6) AppleWebKit/537.36 (KHTML, like Gecko) Chrome/106.0.5249.119 Safari/537.36'\n",
    "}\n",
    "\n",
    "res = req.get(url, headers=headers)"
   ]
  },
  {
   "cell_type": "code",
   "execution_count": 27,
   "metadata": {},
   "outputs": [],
   "source": [
    "res.encoding = 'utf-8'"
   ]
  },
  {
   "cell_type": "code",
   "execution_count": 28,
   "metadata": {},
   "outputs": [],
   "source": [
    "df = pd.read_html(res.text)[5]"
   ]
  },
  {
   "cell_type": "code",
   "execution_count": 29,
   "metadata": {},
   "outputs": [],
   "source": [
    "df.columns = df.iloc[0]\n",
    "df = df.drop(0)"
   ]
  },
  {
   "cell_type": "code",
   "execution_count": null,
   "metadata": {},
   "outputs": [],
   "source": [
    "df = df.set_index('銀行')"
   ]
  },
  {
   "cell_type": "code",
   "execution_count": 32,
   "metadata": {},
   "outputs": [],
   "source": [
    "df = df.drop('中華開發工業銀行')"
   ]
  },
  {
   "cell_type": "code",
   "execution_count": 34,
   "metadata": {},
   "outputs": [],
   "source": [
    "df = df.apply(pd.to_numeric, errors='coerce')"
   ]
  },
  {
   "cell_type": "code",
   "execution_count": null,
   "metadata": {},
   "outputs": [],
   "source": [
    "df.style.highlight_max()"
   ]
  },
  {
   "cell_type": "code",
   "execution_count": 42,
   "metadata": {},
   "outputs": [
    {
     "data": {
      "text/plain": [
       "0\n",
       "活期利率           安泰銀行\n",
       "活期儲蓄利率       台灣中小企銀\n",
       "1月(%)          大眾銀行\n",
       "2月(%)          大眾銀行\n",
       "3月(%)        斐商標準銀行\n",
       "4月(%)        斐商標準銀行\n",
       "5月(%)        斐商標準銀行\n",
       "6月(%)        斐商標準銀行\n",
       "7月(%)        斐商標準銀行\n",
       "8月(%)        斐商標準銀行\n",
       "9月(%)        台中商業銀行\n",
       "10月(%)       台中商業銀行\n",
       "11月(%)       台中商業銀行\n",
       "1年(%)        板信商業銀行\n",
       "2年(%)          聯邦銀行\n",
       "3年(%)        京城商業銀行\n",
       "定期儲蓄1年(%)    板信商業銀行\n",
       "定期儲蓄2年(%)    板信商業銀行\n",
       "定期儲蓄3年(%)    板信商業銀行\n",
       "dtype: object"
      ]
     },
     "execution_count": 42,
     "metadata": {},
     "output_type": "execute_result"
    }
   ],
   "source": [
    "df.idxmax()"
   ]
  },
  {
   "cell_type": "code",
   "execution_count": 43,
   "metadata": {},
   "outputs": [
    {
     "data": {
      "text/html": [
       "<div>\n",
       "<style scoped>\n",
       "    .dataframe tbody tr th:only-of-type {\n",
       "        vertical-align: middle;\n",
       "    }\n",
       "\n",
       "    .dataframe tbody tr th {\n",
       "        vertical-align: top;\n",
       "    }\n",
       "\n",
       "    .dataframe thead th {\n",
       "        text-align: right;\n",
       "    }\n",
       "</style>\n",
       "<table border=\"1\" class=\"dataframe\">\n",
       "  <thead>\n",
       "    <tr style=\"text-align: right;\">\n",
       "      <th></th>\n",
       "      <th>bank</th>\n",
       "      <th>rate</th>\n",
       "    </tr>\n",
       "    <tr>\n",
       "      <th>0</th>\n",
       "      <th></th>\n",
       "      <th></th>\n",
       "    </tr>\n",
       "  </thead>\n",
       "  <tbody>\n",
       "    <tr>\n",
       "      <th>活期利率</th>\n",
       "      <td>安泰銀行</td>\n",
       "      <td>0.10</td>\n",
       "    </tr>\n",
       "    <tr>\n",
       "      <th>活期儲蓄利率</th>\n",
       "      <td>台灣中小企銀</td>\n",
       "      <td>0.23</td>\n",
       "    </tr>\n",
       "    <tr>\n",
       "      <th>1月(%)</th>\n",
       "      <td>大眾銀行</td>\n",
       "      <td>0.60</td>\n",
       "    </tr>\n",
       "    <tr>\n",
       "      <th>2月(%)</th>\n",
       "      <td>大眾銀行</td>\n",
       "      <td>0.72</td>\n",
       "    </tr>\n",
       "    <tr>\n",
       "      <th>3月(%)</th>\n",
       "      <td>斐商標準銀行</td>\n",
       "      <td>0.80</td>\n",
       "    </tr>\n",
       "    <tr>\n",
       "      <th>4月(%)</th>\n",
       "      <td>斐商標準銀行</td>\n",
       "      <td>0.80</td>\n",
       "    </tr>\n",
       "    <tr>\n",
       "      <th>5月(%)</th>\n",
       "      <td>斐商標準銀行</td>\n",
       "      <td>0.80</td>\n",
       "    </tr>\n",
       "    <tr>\n",
       "      <th>6月(%)</th>\n",
       "      <td>斐商標準銀行</td>\n",
       "      <td>0.80</td>\n",
       "    </tr>\n",
       "    <tr>\n",
       "      <th>7月(%)</th>\n",
       "      <td>斐商標準銀行</td>\n",
       "      <td>0.80</td>\n",
       "    </tr>\n",
       "    <tr>\n",
       "      <th>8月(%)</th>\n",
       "      <td>斐商標準銀行</td>\n",
       "      <td>0.80</td>\n",
       "    </tr>\n",
       "    <tr>\n",
       "      <th>9月(%)</th>\n",
       "      <td>台中商業銀行</td>\n",
       "      <td>0.91</td>\n",
       "    </tr>\n",
       "    <tr>\n",
       "      <th>10月(%)</th>\n",
       "      <td>台中商業銀行</td>\n",
       "      <td>0.91</td>\n",
       "    </tr>\n",
       "    <tr>\n",
       "      <th>11月(%)</th>\n",
       "      <td>台中商業銀行</td>\n",
       "      <td>0.91</td>\n",
       "    </tr>\n",
       "    <tr>\n",
       "      <th>1年(%)</th>\n",
       "      <td>板信商業銀行</td>\n",
       "      <td>1.05</td>\n",
       "    </tr>\n",
       "    <tr>\n",
       "      <th>2年(%)</th>\n",
       "      <td>聯邦銀行</td>\n",
       "      <td>1.08</td>\n",
       "    </tr>\n",
       "    <tr>\n",
       "      <th>3年(%)</th>\n",
       "      <td>京城商業銀行</td>\n",
       "      <td>1.12</td>\n",
       "    </tr>\n",
       "    <tr>\n",
       "      <th>定期儲蓄1年(%)</th>\n",
       "      <td>板信商業銀行</td>\n",
       "      <td>1.10</td>\n",
       "    </tr>\n",
       "    <tr>\n",
       "      <th>定期儲蓄2年(%)</th>\n",
       "      <td>板信商業銀行</td>\n",
       "      <td>1.11</td>\n",
       "    </tr>\n",
       "    <tr>\n",
       "      <th>定期儲蓄3年(%)</th>\n",
       "      <td>板信商業銀行</td>\n",
       "      <td>1.12</td>\n",
       "    </tr>\n",
       "  </tbody>\n",
       "</table>\n",
       "</div>"
      ],
      "text/plain": [
       "             bank  rate\n",
       "0                      \n",
       "活期利率         安泰銀行  0.10\n",
       "活期儲蓄利率     台灣中小企銀  0.23\n",
       "1月(%)        大眾銀行  0.60\n",
       "2月(%)        大眾銀行  0.72\n",
       "3月(%)      斐商標準銀行  0.80\n",
       "4月(%)      斐商標準銀行  0.80\n",
       "5月(%)      斐商標準銀行  0.80\n",
       "6月(%)      斐商標準銀行  0.80\n",
       "7月(%)      斐商標準銀行  0.80\n",
       "8月(%)      斐商標準銀行  0.80\n",
       "9月(%)      台中商業銀行  0.91\n",
       "10月(%)     台中商業銀行  0.91\n",
       "11月(%)     台中商業銀行  0.91\n",
       "1年(%)      板信商業銀行  1.05\n",
       "2年(%)        聯邦銀行  1.08\n",
       "3年(%)      京城商業銀行  1.12\n",
       "定期儲蓄1年(%)  板信商業銀行  1.10\n",
       "定期儲蓄2年(%)  板信商業銀行  1.11\n",
       "定期儲蓄3年(%)  板信商業銀行  1.12"
      ]
     },
     "execution_count": 43,
     "metadata": {},
     "output_type": "execute_result"
    }
   ],
   "source": [
    "high_rate = pd.DataFrame({\n",
    "  'bank': df.idxmax(),\n",
    "  'rate': df.max()\n",
    "})\n",
    "high_rate"
   ]
  },
  {
   "cell_type": "code",
   "execution_count": null,
   "metadata": {},
   "outputs": [],
   "source": []
  }
 ],
 "metadata": {
  "kernelspec": {
   "display_name": "Python 3.7.1 ('base')",
   "language": "python",
   "name": "python3"
  },
  "language_info": {
   "codemirror_mode": {
    "name": "ipython",
    "version": 3
   },
   "file_extension": ".py",
   "mimetype": "text/x-python",
   "name": "python",
   "nbconvert_exporter": "python",
   "pygments_lexer": "ipython3",
   "version": "3.7.1"
  },
  "orig_nbformat": 4,
  "vscode": {
   "interpreter": {
    "hash": "0c51cffbb06f44d7875e5b9f66c82becc58421b8a4f04bfe83e579448a592a9d"
   }
  }
 },
 "nbformat": 4,
 "nbformat_minor": 2
}
