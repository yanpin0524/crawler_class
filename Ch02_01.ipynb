{
 "cells": [
  {
   "cell_type": "code",
   "execution_count": 5,
   "metadata": {},
   "outputs": [
    {
     "name": "stdout",
     "output_type": "stream",
     "text": [
      "https://tw.stock.yahoo.com/quote/2330\n",
      "hi\n"
     ]
    }
   ],
   "source": [
    "import requests as req\n",
    "\n",
    "url = 'https://tw.stock.yahoo.com/quote/2330'\n",
    "res = req.get(url)\n",
    "\n",
    "print(res.url)\n",
    "print(res.status)"
   ]
  },
  {
   "cell_type": "code",
   "execution_count": null,
   "metadata": {},
   "outputs": [],
   "source": []
  }
 ],
 "metadata": {
  "kernelspec": {
   "display_name": "Python 3.7.1",
   "language": "python",
   "name": "python3"
  },
  "language_info": {
   "codemirror_mode": {
    "name": "ipython",
    "version": 3
   },
   "file_extension": ".py",
   "mimetype": "text/x-python",
   "name": "python",
   "nbconvert_exporter": "python",
   "pygments_lexer": "ipython3",
   "version": "3.7.1"
  },
  "vscode": {
   "interpreter": {
    "hash": "0c51cffbb06f44d7875e5b9f66c82becc58421b8a4f04bfe83e579448a592a9d"
   }
  }
 },
 "nbformat": 4,
 "nbformat_minor": 2
}
