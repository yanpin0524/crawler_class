{
 "cells": [
  {
   "cell_type": "code",
   "execution_count": 26,
   "metadata": {},
   "outputs": [],
   "source": [
    "import requests as req\n",
    "\n",
    "url = 'https://tw.stock.yahoo.com/quote/2330'\n",
    "res = req.get(url)"
   ]
  },
  {
   "cell_type": "code",
   "execution_count": 27,
   "metadata": {},
   "outputs": [
    {
     "name": "stdout",
     "output_type": "stream",
     "text": [
      "utf-8 ATS\n"
     ]
    }
   ],
   "source": [
    "try:\n",
    "  res.raise_for_status()\n",
    "except Exception as err:\n",
    "  print('error: {}'.format(err))\n",
    "else:\n",
    "  print(res.encoding, res.headers['Server'])"
   ]
  },
  {
   "cell_type": "code",
   "execution_count": 28,
   "metadata": {},
   "outputs": [],
   "source": [
    "from bs4 import BeautifulSoup\n",
    "soup = BeautifulSoup(res.text, 'lxml')"
   ]
  },
  {
   "cell_type": "code",
   "execution_count": 29,
   "metadata": {},
   "outputs": [],
   "source": [
    "ul_list = soup.find_all('ul')"
   ]
  },
  {
   "cell_type": "code",
   "execution_count": 30,
   "metadata": {},
   "outputs": [],
   "source": [
    "target_ul = ul_list[18]"
   ]
  },
  {
   "cell_type": "code",
   "execution_count": 35,
   "metadata": {},
   "outputs": [
    {
     "name": "stdout",
     "output_type": "stream",
     "text": [
      "成交390.0\n",
      "開盤390.0\n",
      "最高391.0\n",
      "最低387.0\n",
      "均價389.5\n",
      "成交金額(億)70.61\n",
      "昨收382.0\n",
      "漲跌幅2.09%\n",
      "漲跌8.0\n",
      "總量18,129\n",
      "昨量28,370\n",
      "振幅1.05%\n"
     ]
    }
   ],
   "source": [
    "li_list = target_ul.find_all('li')\n",
    "for li in li_list:\n",
    "  print(li.text)"
   ]
  },
  {
   "cell_type": "code",
   "execution_count": 40,
   "metadata": {},
   "outputs": [
    {
     "data": {
      "text/plain": [
       "'開盤390.0'"
      ]
     },
     "execution_count": 40,
     "metadata": {},
     "output_type": "execute_result"
    }
   ],
   "source": [
    "soup.find_all('ul')[18].find_all('li')[1].text"
   ]
  },
  {
   "cell_type": "code",
   "execution_count": null,
   "metadata": {},
   "outputs": [],
   "source": []
  }
 ],
 "metadata": {
  "kernelspec": {
   "display_name": "Python 3.7.1",
   "language": "python",
   "name": "python3"
  },
  "language_info": {
   "codemirror_mode": {
    "name": "ipython",
    "version": 3
   },
   "file_extension": ".py",
   "mimetype": "text/x-python",
   "name": "python",
   "nbconvert_exporter": "python",
   "pygments_lexer": "ipython3",
   "version": "3.7.1"
  },
  "vscode": {
   "interpreter": {
    "hash": "0c51cffbb06f44d7875e5b9f66c82becc58421b8a4f04bfe83e579448a592a9d"
   }
  }
 },
 "nbformat": 4,
 "nbformat_minor": 2
}
