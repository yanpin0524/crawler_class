{
 "cells": [
  {
   "cell_type": "code",
   "execution_count": 36,
   "metadata": {},
   "outputs": [],
   "source": [
    "import requests as req\n",
    "from bs4 import BeautifulSoup\n",
    "\n",
    "headers = {\n",
    "    'user-agent': 'Mozilla/5.0 (Macintosh; Intel Mac OS X 10_13_6) AppleWebKit/537.36 (KHTML, like Gecko) Chrome/106.0.5249.119 Safari/537.36'\n",
    "  }\n",
    "\n",
    "url = 'https://rate.bot.com.tw/gold?Lang=zh-TW'\n",
    "res = req.get(url, headers=headers)"
   ]
  },
  {
   "cell_type": "code",
   "execution_count": 37,
   "metadata": {},
   "outputs": [],
   "source": [
    "soup = BeautifulSoup(res.text, 'lxml')"
   ]
  },
  {
   "cell_type": "code",
   "execution_count": 38,
   "metadata": {},
   "outputs": [
    {
     "data": {
      "text/plain": [
       "'掛牌時間：2022/11/17 11:35'"
      ]
     },
     "execution_count": 38,
     "metadata": {},
     "output_type": "execute_result"
    }
   ],
   "source": [
    "time = soup.select_one('div.pull-left.trailer.text-info').text.strip()\n",
    "time"
   ]
  },
  {
   "cell_type": "code",
   "execution_count": 39,
   "metadata": {},
   "outputs": [
    {
     "name": "stdout",
     "output_type": "stream",
     "text": [
      "1775\n",
      "1752\n"
     ]
    }
   ],
   "source": [
    "td_tags = soup.select('td.text-right')\n",
    "sell_gold = td_tags[0].text.replace('買進','').strip()\n",
    "buy_gold = td_tags[1].text.replace('回售','').strip()\n",
    "\n",
    "print(sell_gold)\n",
    "print(buy_gold)"
   ]
  },
  {
   "cell_type": "code",
   "execution_count": 43,
   "metadata": {},
   "outputs": [
    {
     "data": {
      "text/plain": [
       "<Response [200]>"
      ]
     },
     "execution_count": 43,
     "metadata": {},
     "output_type": "execute_result"
    }
   ],
   "source": [
    "event_url = 'https://maker.ifttt.com/trigger/gold_notification/with/key/yg1eDjkYD2zDO7WSYET60'\n",
    "payloads = {\n",
    "  'value1': time,\n",
    "  'value2': '黃金買進: {}'.format(sell_gold),\n",
    "  'value3': '黃金回售: {}'.format(buy_gold)\n",
    "}\n",
    "req.post(url=event_url, params=payloads)"
   ]
  },
  {
   "cell_type": "code",
   "execution_count": null,
   "metadata": {},
   "outputs": [],
   "source": []
  }
 ],
 "metadata": {
  "kernelspec": {
   "display_name": "Python 3.7.1 ('base')",
   "language": "python",
   "name": "python3"
  },
  "language_info": {
   "codemirror_mode": {
    "name": "ipython",
    "version": 3
   },
   "file_extension": ".py",
   "mimetype": "text/x-python",
   "name": "python",
   "nbconvert_exporter": "python",
   "pygments_lexer": "ipython3",
   "version": "3.7.1"
  },
  "orig_nbformat": 4,
  "vscode": {
   "interpreter": {
    "hash": "0c51cffbb06f44d7875e5b9f66c82becc58421b8a4f04bfe83e579448a592a9d"
   }
  }
 },
 "nbformat": 4,
 "nbformat_minor": 2
}
