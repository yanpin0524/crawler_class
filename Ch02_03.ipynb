{
 "cells": [
  {
   "cell_type": "code",
   "execution_count": 34,
   "metadata": {},
   "outputs": [],
   "source": [
    "from selenium import webdriver\n",
    "from bs4 import BeautifulSoup\n",
    "\n",
    "driver = webdriver.Opera()\n",
    "driver.implicitly_wait(20)\n",
    "driver.get(url='https://bank.sinopac.com/MMA8/bank/html/rate/bank_ExchangeRate.html')\n",
    "\n",
    "html_source = driver.page_source\n",
    "driver.quit()\n"
   ]
  },
  {
   "cell_type": "code",
   "execution_count": 35,
   "metadata": {},
   "outputs": [
    {
     "name": "stdout",
     "output_type": "stream",
     "text": [
      "美金(USD)\n",
      "31.9680\n",
      "32.0620\n",
      "31.7680\n",
      "32.2620\n",
      "日圓(JPY)\n",
      "0.2168\n",
      "0.2198\n",
      "0.2138\n",
      "0.2213\n",
      "港幣(HKD)\n",
      "4.0512\n",
      "4.1049\n",
      "4.0112\n",
      "4.1449\n",
      "歐元(EUR)\n",
      "31.8860\n",
      "32.2380\n",
      "31.5360\n",
      "32.5880\n",
      "英鎊(GBP)\n",
      "36.6510\n",
      "37.0520\n",
      "-\n",
      "-\n",
      "瑞士法郎(CHF)\n",
      "32.2330\n",
      "32.4280\n",
      "-\n",
      "-\n",
      "澳幣(AUD)\n",
      "20.6080\n",
      "20.8370\n",
      "-\n",
      "-\n",
      "新加坡幣(SGD)\n",
      "22.7380\n",
      "22.9380\n",
      "-\n",
      "-\n",
      "瑞典幣(SEK)\n",
      "2.9260\n",
      "2.9747\n",
      "-\n",
      "-\n",
      "加幣(CAD)\n",
      "23.6150\n",
      "23.8100\n",
      "-\n",
      "-\n",
      "泰銖(THB)\n",
      "0.8430\n",
      "0.8738\n",
      "-\n",
      "-\n",
      "南非幣(ZAR)\n",
      "1.7725\n",
      "1.8361\n",
      "-\n",
      "-\n",
      "紐西蘭幣(NZD)\n",
      "18.8940\n",
      "19.1120\n",
      "-\n",
      "-\n",
      "澳門幣(MOP)\n",
      "3.8899\n",
      "4.0317\n",
      "-\n",
      "-\n",
      "人民幣(CNY)\n",
      "4.3943\n",
      "4.4447\n",
      "4.3123\n",
      "4.4747\n",
      "離岸人民幣(CNH)\n",
      "4.3936\n",
      "4.4418\n",
      "-\n",
      "-\n"
     ]
    }
   ],
   "source": [
    "soup = BeautifulSoup(html_source, 'lxml')\n",
    "table = soup.select('table')[0]\n",
    "\n",
    "for tr in table.select('tr')[2:]:\n",
    "  print(tr.div.text)\n",
    "  for td in tr.select('.bwc10'):\n",
    "    print(td.text)\n"
   ]
  },
  {
   "cell_type": "code",
   "execution_count": null,
   "metadata": {},
   "outputs": [],
   "source": []
  }
 ],
 "metadata": {
  "kernelspec": {
   "display_name": "Python 3.7.1",
   "language": "python",
   "name": "python3"
  },
  "language_info": {
   "codemirror_mode": {
    "name": "ipython",
    "version": 3
   },
   "file_extension": ".py",
   "mimetype": "text/x-python",
   "name": "python",
   "nbconvert_exporter": "python",
   "pygments_lexer": "ipython3",
   "version": "3.7.1"
  },
  "orig_nbformat": 4,
  "vscode": {
   "interpreter": {
    "hash": "0c51cffbb06f44d7875e5b9f66c82becc58421b8a4f04bfe83e579448a592a9d"
   }
  }
 },
 "nbformat": 4,
 "nbformat_minor": 2
}
