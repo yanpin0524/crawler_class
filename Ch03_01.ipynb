{
 "cells": [
  {
   "cell_type": "code",
   "execution_count": 10,
   "metadata": {},
   "outputs": [],
   "source": [
    "import csv\n",
    "with open('bank_interest_rate.csv', mode='w', newline='') as csv_file:\n",
    "\n",
    "  writer = csv.writer(csv_file)\n",
    "\n",
    "  writer.writerow(['bank, rate'])\n",
    "  writer.writerow(['A', '0.1'])\n",
    "  writer.writerow(['B', '0.09'])\n",
    "  writer.writerow(['C', '1.1'])"
   ]
  },
  {
   "cell_type": "code",
   "execution_count": 5,
   "metadata": {},
   "outputs": [
    {
     "name": "stdout",
     "output_type": "stream",
     "text": [
      "['bank, rate']\n",
      "Bank A rate is: 0.1\n",
      "Bank B rate is: 0.09\n",
      "Bank C rate is: 1.1\n"
     ]
    }
   ],
   "source": [
    "with open('bank_interest_rate.csv', mode='r') as csv_file:\n",
    "  csv_reader = csv.reader(csv_file)\n",
    "  csv_header = next(csv_reader)\n",
    "  print(csv_header)\n",
    "\n",
    "  for row in csv_reader:\n",
    "    print('Bank {} rate is: {}'.format(row[0], row[1]))"
   ]
  },
  {
   "cell_type": "code",
   "execution_count": null,
   "metadata": {},
   "outputs": [],
   "source": []
  }
 ],
 "metadata": {
  "kernelspec": {
   "display_name": "Python 3.7.1",
   "language": "python",
   "name": "python3"
  },
  "language_info": {
   "codemirror_mode": {
    "name": "ipython",
    "version": 3
   },
   "file_extension": ".py",
   "mimetype": "text/x-python",
   "name": "python",
   "nbconvert_exporter": "python",
   "pygments_lexer": "ipython3",
   "version": "3.7.1"
  },
  "orig_nbformat": 4,
  "vscode": {
   "interpreter": {
    "hash": "0c51cffbb06f44d7875e5b9f66c82becc58421b8a4f04bfe83e579448a592a9d"
   }
  }
 },
 "nbformat": 4,
 "nbformat_minor": 2
}
