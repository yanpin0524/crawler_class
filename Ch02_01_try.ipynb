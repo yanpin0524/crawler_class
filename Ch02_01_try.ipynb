{
 "cells": [
  {
   "cell_type": "code",
   "execution_count": 7,
   "metadata": {},
   "outputs": [],
   "source": [
    "import requests as req\n",
    "import time\n",
    "from bs4 import BeautifulSoup\n",
    "\n",
    "stock_id_list = ['2330','6770','1101']\n",
    "\n",
    "def get_stock_price(stock_id):\n",
    "  url = 'https://tw.stock.yahoo.com/quote/{}'.format(stock_id)\n",
    "  headers = {\n",
    "    'user-agent': 'Mozilla/5.0 (Macintosh; Intel Mac OS X 10_13_6) AppleWebKit/537.36 (KHTML, like Gecko) Chrome/106.0.5249.119 Safari/537.36'\n",
    "  }\n",
    "\n",
    "  res = req.get(url, headers=headers)\n",
    "  res.raise_for_status()\n",
    "\n",
    "  soup = BeautifulSoup(res.text, 'lxml')\n",
    "  li_list = soup.find_all('ul')[18].find_all('li')\n",
    "\n",
    "  for li in li_list:\n",
    "    print(li.text)\n",
    "\n",
    "def call_get_stock(list = []):\n",
    "  for id in list:\n",
    "    try:\n",
    "      get_stock_price(id)\n",
    "    except Exception as err:\n",
    "      print('{} is false:{}'.format(id, err))\n",
    "    else:\n",
    "      print('-'*20)\n",
    "      time.sleep(3)\n"
   ]
  },
  {
   "cell_type": "code",
   "execution_count": 8,
   "metadata": {},
   "outputs": [
    {
     "name": "stdout",
     "output_type": "stream",
     "text": [
      "成交390.0\n",
      "開盤390.0\n",
      "最高391.0\n",
      "最低387.0\n",
      "均價389.5\n",
      "成交金額(億)72.10\n",
      "昨收382.0\n",
      "漲跌幅2.09%\n",
      "漲跌8.0\n",
      "總量18,511\n",
      "昨量28,370\n",
      "振幅1.05%\n",
      "--------------------\n",
      "成交32.55\n",
      "開盤32.30\n",
      "最高32.70\n",
      "最低32.20\n",
      "均價32.49\n",
      "成交金額(億)5.14\n",
      "昨收31.85\n",
      "漲跌幅2.20%\n",
      "漲跌0.70\n",
      "總量15,830\n",
      "昨量17,315\n",
      "振幅1.57%\n",
      "--------------------\n",
      "成交30.90\n",
      "開盤30.60\n",
      "最高30.95\n",
      "最低30.50\n",
      "均價30.69\n",
      "成交金額(億)2.77\n",
      "昨收30.45\n",
      "漲跌幅1.48%\n",
      "漲跌0.45\n",
      "總量9,035\n",
      "昨量15,725\n",
      "振幅1.48%\n",
      "--------------------\n"
     ]
    }
   ],
   "source": [
    "call_get_stock(stock_id_list)"
   ]
  },
  {
   "cell_type": "code",
   "execution_count": null,
   "metadata": {},
   "outputs": [],
   "source": []
  }
 ],
 "metadata": {
  "kernelspec": {
   "display_name": "Python 3.7.1",
   "language": "python",
   "name": "python3"
  },
  "language_info": {
   "codemirror_mode": {
    "name": "ipython",
    "version": 3
   },
   "file_extension": ".py",
   "mimetype": "text/x-python",
   "name": "python",
   "nbconvert_exporter": "python",
   "pygments_lexer": "ipython3",
   "version": "3.7.1"
  },
  "orig_nbformat": 4,
  "vscode": {
   "interpreter": {
    "hash": "0c51cffbb06f44d7875e5b9f66c82becc58421b8a4f04bfe83e579448a592a9d"
   }
  }
 },
 "nbformat": 4,
 "nbformat_minor": 2
}
