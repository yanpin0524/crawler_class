{
 "cells": [
  {
   "cell_type": "code",
   "execution_count": 27,
   "metadata": {},
   "outputs": [],
   "source": [
    "import requests as req\n",
    "import time\n",
    "from bs4 import BeautifulSoup\n",
    "\n",
    "stock_id_list = ['2330','6770','1101']\n",
    "\n",
    "def get_stock_price(stock_id):\n",
    "  url = 'https://tw.stock.yahoo.com/quote/{}'.format(stock_id)\n",
    "  headers = {\n",
    "    'user-agent': 'Mozilla/5.0 (Macintosh; Intel Mac OS X 10_13_6) AppleWebKit/537.36 (KHTML, like Gecko) Chrome/106.0.5249.119 Safari/537.36'\n",
    "  }\n",
    "\n",
    "  res = req.get(url, headers=headers)\n",
    "  res.raise_for_status()\n",
    "\n",
    "  soup = BeautifulSoup(res.text, 'lxml')\n",
    "  li_list = soup.find_all('ul')[18].find_all('li')\n",
    "\n",
    "  for li in li_list:\n",
    "    print(li.text)\n",
    "\n",
    "def get_stock_into(stock_id):\n",
    "  url = 'https://www.google.com/search'\n",
    "  headers = {\n",
    "    'user-agent': 'Mozilla/5.0 (Macintosh; Intel Mac OS X 10_13_6) AppleWebKit/537.36 (KHTML, like Gecko) Chrome/106.0.5249.119 Safari/537.36'\n",
    "  }\n",
    "  params = {\n",
    "    'q': stock_id\n",
    "  }\n",
    "\n",
    "  res = req.get(url ,params=params ,headers=headers)\n",
    "  res.raise_for_status()\n",
    "\n",
    "  soup = BeautifulSoup(res.text, 'lxml')\n",
    "  discription = soup.select('div.kno-rdesc span')[0].text\n",
    "  link = soup.select('div.kno-rdesc a')[0].get('href')\n",
    "\n",
    "  print(discription)\n",
    "  print(link)\n",
    "\n",
    "def call_fun(list = [], fun = get_stock_price):\n",
    "  for id in list:\n",
    "    try:\n",
    "      fun(id)\n",
    "    except Exception as err:\n",
    "      print('{} is false:{}'.format(id, err))\n",
    "    finally:\n",
    "      print('-'*20)\n",
    "      time.sleep(3)"
   ]
  },
  {
   "cell_type": "code",
   "execution_count": 28,
   "metadata": {},
   "outputs": [
    {
     "name": "stdout",
     "output_type": "stream",
     "text": [
      "台灣積體電路製造，簡稱台積電、台積、台積公司或TSMC，與旗下公司合稱時則稱作台積電集團，是臺灣一家從事晶圓代工的公司，為全球規模最大的半導體製造廠，總部位於新竹科學園區，主要廠房則分布於臺灣的新竹、臺中、臺南等科學園區。\n",
      "https://zh.wikipedia.org/zh-tw/%E5%8F%B0%E7%81%A3%E7%A9%8D%E9%AB%94%E9%9B%BB%E8%B7%AF%E8%A3%BD%E9%80%A0\n",
      "--------------------\n",
      "6770 is false:list index out of range\n",
      "--------------------\n",
      "臺灣水泥股份有限公司是台灣一家以水泥生產為主的礦業公司，始創於1946年5月，其歷史可追溯至日治時期。成立之初為公營事業，1954年11月民營化、由鹿港辜家接手經營，公司名稱表記也從「臺」轉以「台」為主。而台泥英文簡稱則用過「T'cement」。\n",
      "該公司在1962年股票上市、代碼1101，成為臺灣第一家上市公司。\n",
      "https://zh.wikipedia.org/zh-tw/%E5%8F%B0%E7%81%A3%E6%B0%B4%E6%B3%A5\n",
      "--------------------\n"
     ]
    }
   ],
   "source": [
    "call_fun(stock_id_list, get_stock_into)"
   ]
  },
  {
   "cell_type": "code",
   "execution_count": null,
   "metadata": {},
   "outputs": [],
   "source": []
  }
 ],
 "metadata": {
  "kernelspec": {
   "display_name": "Python 3.7.1",
   "language": "python",
   "name": "python3"
  },
  "language_info": {
   "codemirror_mode": {
    "name": "ipython",
    "version": 3
   },
   "file_extension": ".py",
   "mimetype": "text/x-python",
   "name": "python",
   "nbconvert_exporter": "python",
   "pygments_lexer": "ipython3",
   "version": "3.7.1"
  },
  "orig_nbformat": 4,
  "vscode": {
   "interpreter": {
    "hash": "0c51cffbb06f44d7875e5b9f66c82becc58421b8a4f04bfe83e579448a592a9d"
   }
  }
 },
 "nbformat": 4,
 "nbformat_minor": 2
}
