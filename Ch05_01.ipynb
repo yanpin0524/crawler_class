{
 "cells": [
  {
   "cell_type": "code",
   "execution_count": 38,
   "metadata": {},
   "outputs": [],
   "source": [
    "import requests as req\n",
    "import pandas as pd\n",
    "import sqlite3"
   ]
  },
  {
   "cell_type": "code",
   "execution_count": 39,
   "metadata": {},
   "outputs": [],
   "source": [
    "date = '20221109'\n",
    "url = 'https://www.twse.com.tw/exchangeReport/MI_INDEX'\n",
    "payloads = {\n",
    "  'response': 'html',\n",
    "  'date': date,\n",
    "  'type': 'ALLBUT0999'\n",
    "}\n",
    "headers = {\n",
    "  'user-agent': 'Mozilla/5.0 (Macintosh; Intel Mac OS X 10_13_6) AppleWebKit/537.36 (KHTML, like Gecko) Chrome/106.0.5249.119 Safari/537.36'\n",
    "}"
   ]
  },
  {
   "cell_type": "code",
   "execution_count": 40,
   "metadata": {},
   "outputs": [],
   "source": [
    "res = req.get(url, params= payloads, headers=headers)"
   ]
  },
  {
   "cell_type": "code",
   "execution_count": 41,
   "metadata": {},
   "outputs": [],
   "source": [
    "try:\n",
    "  df = pd.read_html(res.text)[-1]\n",
    "except:\n",
    "  df = None\n",
    "\n",
    "df.columns = df.columns.get_level_values(2)\n",
    "df.drop(['證券名稱','漲跌(+/-)'], axis=1, inplace=True)\n",
    "\n",
    "df['日期'] = pd.to_datetime(date)\n",
    "df = df.set_index(['證券代號', '日期'])\n",
    "\n",
    "df = df.apply(pd.to_numeric, errors='coerce')\n",
    "df.drop(df[df['收盤價'].isnull()].index, inplace=True)"
   ]
  },
  {
   "cell_type": "code",
   "execution_count": 42,
   "metadata": {},
   "outputs": [],
   "source": [
    "def save_daily_prices(new_df):\n",
    "\n",
    "  connection = sqlite3.connect('data.db')\n",
    "  try:\n",
    "    df = pd.read_sql('select * from daily_prices', connection, index_col=['證券代號', '日期'], parse_dates=['日期'])\n",
    "  except:\n",
    "    df = pd.DataFrame()\n",
    "  combined_df = df.append(new_df, sort=False)\n",
    "  final_df = combined_df.reset_index().drop_duplicates(subset=['證券代號', '日期'], keep='last').set_index(['證券代號', '日期']).sort_index()\n",
    "  final_df.to_sql('daily_prices', connection, if_exists='replace')\n",
    "  connection.close()\n",
    "\n",
    "  excel_file = os.path.join('data', 'excel_files', 'daily_prices.xlsx')\n",
    "  os.makedirs(os.path.dirname(excel_file), exist_ok=True)\n",
    "  final_df.to_excel(excel_file)"
   ]
  },
  {
   "cell_type": "code",
   "execution_count": 43,
   "metadata": {},
   "outputs": [],
   "source": [
    "save_daily_prices(df)"
   ]
  },
  {
   "cell_type": "code",
   "execution_count": null,
   "metadata": {},
   "outputs": [],
   "source": []
  }
 ],
 "metadata": {
  "kernelspec": {
   "display_name": "Python 3.7.1 ('base')",
   "language": "python",
   "name": "python3"
  },
  "language_info": {
   "codemirror_mode": {
    "name": "ipython",
    "version": 3
   },
   "file_extension": ".py",
   "mimetype": "text/x-python",
   "name": "python",
   "nbconvert_exporter": "python",
   "pygments_lexer": "ipython3",
   "version": "3.7.1"
  },
  "orig_nbformat": 4,
  "vscode": {
   "interpreter": {
    "hash": "0c51cffbb06f44d7875e5b9f66c82becc58421b8a4f04bfe83e579448a592a9d"
   }
  }
 },
 "nbformat": 4,
 "nbformat_minor": 2
}
