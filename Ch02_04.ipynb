{
 "cells": [
  {
   "cell_type": "code",
   "execution_count": 34,
   "metadata": {},
   "outputs": [],
   "source": [
    "from selenium import webdriver\n",
    "from bs4 import BeautifulSoup\n",
    "\n",
    "driver = webdriver.Opera()\n",
    "driver.implicitly_wait(20)\n",
    "driver.get(url='https://bank.sinopac.com/MMA8/bank/html/rate/bank_ExchangeRate.html#tab2')\n"
   ]
  },
  {
   "cell_type": "code",
   "execution_count": 35,
   "metadata": {},
   "outputs": [],
   "source": [
    "driver.find_element_by_id('SearchDateBegin').clear()\n",
    "driver.find_element_by_id('SearchDateBegin').send_keys('2022/09/01')\n",
    "driver.find_element_by_id('SearchDateEnd').clear()\n",
    "driver.find_element_by_id('SearchDateEnd').send_keys('2022/09/30')\n",
    "\n",
    "driver.find_element_by_id('ETSListSearch').click()"
   ]
  },
  {
   "cell_type": "code",
   "execution_count": 36,
   "metadata": {},
   "outputs": [],
   "source": [
    "driver.find_element_by_xpath('//*[@id=\"tab2\"]/div[2]/div[2]/ul/li[1]/a').click()"
   ]
  },
  {
   "cell_type": "code",
   "execution_count": 37,
   "metadata": {},
   "outputs": [],
   "source": [
    "element = driver.find_element_by_xpath('//*[@id=\"li_JPY\"]')\n",
    "driver.execute_script('arguments[0].click();', element)"
   ]
  },
  {
   "cell_type": "code",
   "execution_count": 38,
   "metadata": {},
   "outputs": [],
   "source": [
    "html_source = driver.page_source\n",
    "soup = BeautifulSoup(html_source, 'lxml')"
   ]
  },
  {
   "cell_type": "code",
   "execution_count": 39,
   "metadata": {},
   "outputs": [
    {
     "name": "stdout",
     "output_type": "stream",
     "text": [
      "2022/09/30 | 31.70600 | 31.80500 | \n",
      "2022/09/29 | 31.79700 | 31.90000 | \n",
      "2022/09/28 | 31.83000 | 31.93500 | \n",
      "2022/09/27 | 31.72100 | 31.82400 | \n",
      "2022/09/26 | 31.76300 | 31.86800 | \n",
      "2022/09/23 | 31.63500 | 31.74300 | \n",
      "2022/09/22 | 31.57200 | 31.67600 | \n",
      "2022/09/21 | 31.40000 | 31.49900 | \n",
      "2022/09/20 | 31.34100 | 31.45000 | \n",
      "2022/09/19 | 31.32500 | 31.42900 | \n",
      "2022/09/16 | 31.27200 | 31.37800 | \n",
      "2022/09/15 | 31.08900 | 31.18700 | \n",
      "2022/09/14 | 31.04900 | 31.16000 | \n",
      "2022/09/13 | 30.85100 | 30.94800 | \n",
      "2022/09/12 | 30.83700 | 30.93200 | \n",
      "2022/09/08 | 30.85200 | 30.96900 | \n",
      "2022/09/07 | 30.88500 | 30.98200 | \n",
      "2022/09/06 | 30.71000 | 30.81000 | \n",
      "2022/09/05 | 30.66500 | 30.76900 | \n",
      "2022/09/02 | 30.54700 | 30.64500 | \n"
     ]
    }
   ],
   "source": [
    "table = soup.select('table#ETSListHist')[0]\n",
    "for tr in table.select('tr')[1:]:\n",
    "  for td in tr.select('td'):\n",
    "    print(td.text, end=' | ')\n",
    "  print('')"
   ]
  },
  {
   "cell_type": "code",
   "execution_count": 40,
   "metadata": {},
   "outputs": [],
   "source": [
    "driver.quit()"
   ]
  }
 ],
 "metadata": {
  "kernelspec": {
   "display_name": "Python 3.7.1",
   "language": "python",
   "name": "python3"
  },
  "language_info": {
   "codemirror_mode": {
    "name": "ipython",
    "version": 3
   },
   "file_extension": ".py",
   "mimetype": "text/x-python",
   "name": "python",
   "nbconvert_exporter": "python",
   "pygments_lexer": "ipython3",
   "version": "3.7.1"
  },
  "orig_nbformat": 4,
  "vscode": {
   "interpreter": {
    "hash": "0c51cffbb06f44d7875e5b9f66c82becc58421b8a4f04bfe83e579448a592a9d"
   }
  }
 },
 "nbformat": 4,
 "nbformat_minor": 2
}
